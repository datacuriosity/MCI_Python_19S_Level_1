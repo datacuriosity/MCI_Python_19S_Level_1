{
 "cells": [
  {
   "cell_type": "markdown",
   "metadata": {},
   "source": [
    "## 1. Data structures\n",
    "\n",
    "- List: [], list()\n",
    "- Tuple: (), tuple()\n",
    "- Set: {}, set()\n",
    "- Dictionary: {key: value}, dict()\n",
    "- Mutable and immutable"
   ]
  },
  {
   "cell_type": "markdown",
   "metadata": {},
   "source": [
    "![](data:image/png;base64,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)"
   ]
  },
  {
   "cell_type": "code",
   "execution_count": 1,
   "metadata": {},
   "outputs": [
    {
     "data": {
      "text/plain": [
       "True"
      ]
     },
     "execution_count": 1,
     "metadata": {},
     "output_type": "execute_result"
    }
   ],
   "source": [
    "4!= 3"
   ]
  },
  {
   "cell_type": "code",
   "execution_count": 2,
   "metadata": {},
   "outputs": [
    {
     "data": {
      "text/plain": [
       "True"
      ]
     },
     "execution_count": 2,
     "metadata": {},
     "output_type": "execute_result"
    }
   ],
   "source": [
    "3 == 3"
   ]
  },
  {
   "cell_type": "code",
   "execution_count": 3,
   "metadata": {},
   "outputs": [],
   "source": [
    "a = 1"
   ]
  },
  {
   "cell_type": "code",
   "execution_count": 4,
   "metadata": {},
   "outputs": [
    {
     "data": {
      "text/plain": [
       "140431477315888"
      ]
     },
     "execution_count": 4,
     "metadata": {},
     "output_type": "execute_result"
    }
   ],
   "source": [
    "id(a)"
   ]
  },
  {
   "cell_type": "code",
   "execution_count": 5,
   "metadata": {},
   "outputs": [],
   "source": [
    "a = 2"
   ]
  },
  {
   "cell_type": "code",
   "execution_count": 7,
   "metadata": {},
   "outputs": [
    {
     "data": {
      "text/plain": [
       "140431477315920"
      ]
     },
     "execution_count": 7,
     "metadata": {},
     "output_type": "execute_result"
    }
   ],
   "source": [
    "id(a)"
   ]
  },
  {
   "cell_type": "markdown",
   "metadata": {},
   "source": [
    "### 1.1. List\n",
    "- [], list()\n",
    "- Có thể lưu trữ được nhiều kiểu dữ kiệu khác nhau\n",
    "- Indexing, có thứ tự của các phần tử "
   ]
  },
  {
   "cell_type": "code",
   "execution_count": 16,
   "metadata": {},
   "outputs": [],
   "source": [
    "li = [1, 2, 3, 'Truong', False, True, None, 1 + 2j]"
   ]
  },
  {
   "cell_type": "code",
   "execution_count": 10,
   "metadata": {},
   "outputs": [
    {
     "data": {
      "text/plain": [
       "['append',\n",
       " 'clear',\n",
       " 'copy',\n",
       " 'count',\n",
       " 'extend',\n",
       " 'index',\n",
       " 'insert',\n",
       " 'pop',\n",
       " 'remove',\n",
       " 'reverse',\n",
       " 'sort']"
      ]
     },
     "execution_count": 10,
     "metadata": {},
     "output_type": "execute_result"
    }
   ],
   "source": [
    "[method for method in dir(li) if not method.startswith('__')]"
   ]
  },
  {
   "cell_type": "code",
   "execution_count": 12,
   "metadata": {},
   "outputs": [
    {
     "data": {
      "text/plain": [
       "[1, 2, 3, 'Truong', False, True, None, (1+2j), 'Nguyen']"
      ]
     },
     "execution_count": 12,
     "metadata": {},
     "output_type": "execute_result"
    }
   ],
   "source": [
    "li.append('Nguyen')\n",
    "li"
   ]
  },
  {
   "cell_type": "code",
   "execution_count": 13,
   "metadata": {},
   "outputs": [
    {
     "data": {
      "text/plain": [
       "[]"
      ]
     },
     "execution_count": 13,
     "metadata": {},
     "output_type": "execute_result"
    }
   ],
   "source": [
    "li.clear()\n",
    "li"
   ]
  },
  {
   "cell_type": "code",
   "execution_count": 17,
   "metadata": {},
   "outputs": [
    {
     "data": {
      "text/plain": [
       "[1, 2, 3, 'Truong', False, True, None, (1+2j)]"
      ]
     },
     "execution_count": 17,
     "metadata": {},
     "output_type": "execute_result"
    }
   ],
   "source": [
    "li"
   ]
  },
  {
   "cell_type": "code",
   "execution_count": 18,
   "metadata": {},
   "outputs": [
    {
     "data": {
      "text/plain": [
       "'Truong'"
      ]
     },
     "execution_count": 18,
     "metadata": {},
     "output_type": "execute_result"
    }
   ],
   "source": [
    "li[3]"
   ]
  },
  {
   "cell_type": "code",
   "execution_count": 20,
   "metadata": {},
   "outputs": [],
   "source": [
    "li[6]"
   ]
  },
  {
   "cell_type": "code",
   "execution_count": 21,
   "metadata": {},
   "outputs": [
    {
     "data": {
      "text/plain": [
       "(1+2j)"
      ]
     },
     "execution_count": 21,
     "metadata": {},
     "output_type": "execute_result"
    }
   ],
   "source": [
    "li[-1]"
   ]
  },
  {
   "cell_type": "code",
   "execution_count": 23,
   "metadata": {},
   "outputs": [
    {
     "data": {
      "text/plain": [
       "True"
      ]
     },
     "execution_count": 23,
     "metadata": {},
     "output_type": "execute_result"
    }
   ],
   "source": [
    "li[-3]"
   ]
  },
  {
   "cell_type": "code",
   "execution_count": 25,
   "metadata": {},
   "outputs": [
    {
     "data": {
      "text/plain": [
       "['Truong', False, True]"
      ]
     },
     "execution_count": 25,
     "metadata": {},
     "output_type": "execute_result"
    }
   ],
   "source": [
    "li[3:6] # [3, 6)"
   ]
  },
  {
   "cell_type": "code",
   "execution_count": 26,
   "metadata": {},
   "outputs": [
    {
     "data": {
      "text/plain": [
       "[1, 2, 3, 'Truong', False, True, None, (1+2j)]"
      ]
     },
     "execution_count": 26,
     "metadata": {},
     "output_type": "execute_result"
    }
   ],
   "source": [
    "li"
   ]
  },
  {
   "cell_type": "code",
   "execution_count": 28,
   "metadata": {},
   "outputs": [
    {
     "data": {
      "text/plain": [
       "[1, 3, False, None]"
      ]
     },
     "execution_count": 28,
     "metadata": {},
     "output_type": "execute_result"
    }
   ],
   "source": [
    "li[::2]"
   ]
  },
  {
   "cell_type": "code",
   "execution_count": 34,
   "metadata": {},
   "outputs": [
    {
     "data": {
      "text/plain": [
       "[[9, 10, 11], (1+2j), None, True, False, 'Truong', 3, 2, 1]"
      ]
     },
     "execution_count": 34,
     "metadata": {},
     "output_type": "execute_result"
    }
   ],
   "source": [
    "li[::-1]"
   ]
  },
  {
   "cell_type": "code",
   "execution_count": 30,
   "metadata": {},
   "outputs": [
    {
     "data": {
      "text/plain": [
       "[1, 2, 3, 'Truong', False, True, None, (1+2j), [9, 10, 11]]"
      ]
     },
     "execution_count": 30,
     "metadata": {},
     "output_type": "execute_result"
    }
   ],
   "source": [
    "li.append([9, 10, 11])\n",
    "li"
   ]
  },
  {
   "cell_type": "code",
   "execution_count": 32,
   "metadata": {},
   "outputs": [
    {
     "data": {
      "text/plain": [
       "10"
      ]
     },
     "execution_count": 32,
     "metadata": {},
     "output_type": "execute_result"
    }
   ],
   "source": [
    "li[-1][1]"
   ]
  },
  {
   "cell_type": "code",
   "execution_count": 35,
   "metadata": {},
   "outputs": [
    {
     "data": {
      "text/plain": [
       "[1, 2, 3, 'Truong', False, True, None, (1+2j), [9, 10, 11]]"
      ]
     },
     "execution_count": 35,
     "metadata": {},
     "output_type": "execute_result"
    }
   ],
   "source": [
    "li"
   ]
  },
  {
   "cell_type": "code",
   "execution_count": 36,
   "metadata": {},
   "outputs": [
    {
     "data": {
      "text/plain": [
       "[1, 2, 3, 'Nguyen', False, True, None, (1+2j), [9, 10, 11]]"
      ]
     },
     "execution_count": 36,
     "metadata": {},
     "output_type": "execute_result"
    }
   ],
   "source": [
    "li[3] = 'Nguyen'\n",
    "li"
   ]
  },
  {
   "cell_type": "code",
   "execution_count": 37,
   "metadata": {},
   "outputs": [
    {
     "name": "stdout",
     "output_type": "stream",
     "text": [
      "140431565424896\n"
     ]
    },
    {
     "data": {
      "text/plain": [
       "140431565424896"
      ]
     },
     "execution_count": 37,
     "metadata": {},
     "output_type": "execute_result"
    }
   ],
   "source": [
    "print(id(li))\n",
    "li[3] = 'TRuong'\n",
    "id(li)"
   ]
  },
  {
   "cell_type": "markdown",
   "metadata": {},
   "source": [
    "- pop vs remove\n",
    "- extend vs append"
   ]
  },
  {
   "cell_type": "code",
   "execution_count": 38,
   "metadata": {},
   "outputs": [],
   "source": [
    "li_2 = [1, 2, 3, 4]"
   ]
  },
  {
   "cell_type": "code",
   "execution_count": 39,
   "metadata": {},
   "outputs": [],
   "source": [
    "li_2 = [[1, 2, 3, 4], ['Truong', 'Nguyen', 'Thu', 'An']]"
   ]
  },
  {
   "cell_type": "code",
   "execution_count": 40,
   "metadata": {},
   "outputs": [
    {
     "data": {
      "text/plain": [
       "[1, 2, 3, 4]"
      ]
     },
     "execution_count": 40,
     "metadata": {},
     "output_type": "execute_result"
    }
   ],
   "source": [
    "li_2[0]"
   ]
  },
  {
   "cell_type": "code",
   "execution_count": 42,
   "metadata": {},
   "outputs": [
    {
     "data": {
      "text/plain": [
       "['Truong', 'Nguyen', 'Thu', 'An']"
      ]
     },
     "execution_count": 42,
     "metadata": {},
     "output_type": "execute_result"
    }
   ],
   "source": [
    "li_3 = li_2[1]\n",
    "li_3"
   ]
  },
  {
   "cell_type": "code",
   "execution_count": 43,
   "metadata": {},
   "outputs": [
    {
     "ename": "TypeError",
     "evalue": "'list' object cannot be interpreted as an integer",
     "output_type": "error",
     "traceback": [
      "\u001b[0;31m---------------------------------------------------------------------------\u001b[0m",
      "\u001b[0;31mTypeError\u001b[0m                                 Traceback (most recent call last)",
      "\u001b[0;32m<ipython-input-43-d136127587e0>\u001b[0m in \u001b[0;36m<module>\u001b[0;34m\u001b[0m\n\u001b[0;32m----> 1\u001b[0;31m \u001b[0mli_3\u001b[0m\u001b[0;34m.\u001b[0m\u001b[0mpop\u001b[0m\u001b[0;34m(\u001b[0m\u001b[0;34m[\u001b[0m\u001b[0;36m1\u001b[0m\u001b[0;34m,\u001b[0m \u001b[0;36m2\u001b[0m\u001b[0;34m]\u001b[0m\u001b[0;34m)\u001b[0m\u001b[0;34m\u001b[0m\u001b[0;34m\u001b[0m\u001b[0m\n\u001b[0m",
      "\u001b[0;31mTypeError\u001b[0m: 'list' object cannot be interpreted as an integer"
     ]
    }
   ],
   "source": [
    "li_3.pop([1, 2])"
   ]
  },
  {
   "cell_type": "code",
   "execution_count": 44,
   "metadata": {},
   "outputs": [
    {
     "data": {
      "text/plain": [
       "['Truong', 'Thu']"
      ]
     },
     "execution_count": 44,
     "metadata": {},
     "output_type": "execute_result"
    }
   ],
   "source": [
    "for index in [1, 2]:\n",
    "    li_3.pop(index)\n",
    "\n",
    "li_3"
   ]
  },
  {
   "cell_type": "code",
   "execution_count": 45,
   "metadata": {},
   "outputs": [],
   "source": [
    "li = [1, 2, 3, 4]"
   ]
  },
  {
   "cell_type": "code",
   "execution_count": 46,
   "metadata": {},
   "outputs": [
    {
     "data": {
      "text/plain": [
       "[1, 2, 3, 4, [5, 6, 6]]"
      ]
     },
     "execution_count": 46,
     "metadata": {},
     "output_type": "execute_result"
    }
   ],
   "source": [
    "li.append([5, 6, 6])\n",
    "li"
   ]
  },
  {
   "cell_type": "code",
   "execution_count": 47,
   "metadata": {},
   "outputs": [
    {
     "data": {
      "text/plain": [
       "[5, 6, 6]"
      ]
     },
     "execution_count": 47,
     "metadata": {},
     "output_type": "execute_result"
    }
   ],
   "source": [
    "li[-1]"
   ]
  },
  {
   "cell_type": "code",
   "execution_count": 48,
   "metadata": {},
   "outputs": [
    {
     "data": {
      "text/plain": [
       "[1, 2, 3, 4, [5, 6, 6], 9, 10, 11]"
      ]
     },
     "execution_count": 48,
     "metadata": {},
     "output_type": "execute_result"
    }
   ],
   "source": [
    "li.extend([9, 10, 11])\n",
    "li"
   ]
  },
  {
   "cell_type": "code",
   "execution_count": 49,
   "metadata": {},
   "outputs": [
    {
     "data": {
      "text/plain": [
       "[1, 2, 3, 4, [5, 6, 6], 9, 10, 11, 12, 3, 54]"
      ]
     },
     "execution_count": 49,
     "metadata": {},
     "output_type": "execute_result"
    }
   ],
   "source": [
    "li + [12, 3, 54]"
   ]
  },
  {
   "cell_type": "code",
   "execution_count": 50,
   "metadata": {},
   "outputs": [
    {
     "data": {
      "text/plain": [
       "[1, 2, 3, 4, [5, 6, 6], 9, 10, 11]"
      ]
     },
     "execution_count": 50,
     "metadata": {},
     "output_type": "execute_result"
    }
   ],
   "source": [
    "li"
   ]
  },
  {
   "cell_type": "code",
   "execution_count": 51,
   "metadata": {},
   "outputs": [
    {
     "data": {
      "text/plain": [
       "[1, 2, 3, 4, [5, 6, 6], 9, 10]"
      ]
     },
     "execution_count": 51,
     "metadata": {},
     "output_type": "execute_result"
    }
   ],
   "source": [
    "li.pop()\n",
    "li"
   ]
  },
  {
   "cell_type": "code",
   "execution_count": 52,
   "metadata": {},
   "outputs": [
    {
     "data": {
      "text/plain": [
       "[1, 2, 3, 4, 9, 10]"
      ]
     },
     "execution_count": 52,
     "metadata": {},
     "output_type": "execute_result"
    }
   ],
   "source": [
    "li.pop(4)\n",
    "li"
   ]
  },
  {
   "cell_type": "code",
   "execution_count": 54,
   "metadata": {},
   "outputs": [
    {
     "data": {
      "text/plain": [
       "[1, 2, 9, 10]"
      ]
     },
     "execution_count": 54,
     "metadata": {},
     "output_type": "execute_result"
    }
   ],
   "source": [
    "li.remove(3)\n",
    "li"
   ]
  },
  {
   "cell_type": "code",
   "execution_count": 55,
   "metadata": {},
   "outputs": [],
   "source": [
    "li = [55, 60, 70, 3, 4, 2]\n",
    "li.sort()"
   ]
  },
  {
   "cell_type": "code",
   "execution_count": 57,
   "metadata": {},
   "outputs": [
    {
     "data": {
      "text/plain": [
       "[70, 60, 55, 4, 3, 2]"
      ]
     },
     "execution_count": 57,
     "metadata": {},
     "output_type": "execute_result"
    }
   ],
   "source": [
    "li.sort(reverse=True)\n",
    "li"
   ]
  },
  {
   "cell_type": "code",
   "execution_count": 58,
   "metadata": {},
   "outputs": [
    {
     "ename": "TypeError",
     "evalue": "'<' not supported between instances of 'bool' and 'str'",
     "output_type": "error",
     "traceback": [
      "\u001b[0;31m---------------------------------------------------------------------------\u001b[0m",
      "\u001b[0;31mTypeError\u001b[0m                                 Traceback (most recent call last)",
      "\u001b[0;32m<ipython-input-58-05ec87b599c4>\u001b[0m in \u001b[0;36m<module>\u001b[0;34m\u001b[0m\n\u001b[1;32m      1\u001b[0m \u001b[0mli\u001b[0m \u001b[0;34m=\u001b[0m \u001b[0;34m[\u001b[0m\u001b[0;34m'Truong'\u001b[0m\u001b[0;34m,\u001b[0m \u001b[0;34m'Nguyen'\u001b[0m\u001b[0;34m,\u001b[0m \u001b[0;32mTrue\u001b[0m\u001b[0;34m,\u001b[0m \u001b[0;32mNone\u001b[0m\u001b[0;34m,\u001b[0m \u001b[0;32mFalse\u001b[0m\u001b[0;34m,\u001b[0m \u001b[0;34m(\u001b[0m\u001b[0;36m3\u001b[0m\u001b[0;34m+\u001b[0m\u001b[0;36m4j\u001b[0m\u001b[0;34m)\u001b[0m\u001b[0;34m]\u001b[0m\u001b[0;34m\u001b[0m\u001b[0;34m\u001b[0m\u001b[0m\n\u001b[0;32m----> 2\u001b[0;31m \u001b[0mli\u001b[0m\u001b[0;34m.\u001b[0m\u001b[0msort\u001b[0m\u001b[0;34m(\u001b[0m\u001b[0;34m)\u001b[0m\u001b[0;34m\u001b[0m\u001b[0;34m\u001b[0m\u001b[0m\n\u001b[0m",
      "\u001b[0;31mTypeError\u001b[0m: '<' not supported between instances of 'bool' and 'str'"
     ]
    }
   ],
   "source": [
    "li = ['Truong', 'Nguyen', True, None, False, (3+4j)]\n",
    "li.sort()"
   ]
  },
  {
   "cell_type": "code",
   "execution_count": 59,
   "metadata": {},
   "outputs": [],
   "source": [
    "def rules(e):\n",
    "    return len(str(e))"
   ]
  },
  {
   "cell_type": "code",
   "execution_count": 64,
   "metadata": {},
   "outputs": [
    {
     "data": {
      "text/plain": [
       "['Truong', 'Nguyen', (3+4j), False, True, None]"
      ]
     },
     "execution_count": 64,
     "metadata": {},
     "output_type": "execute_result"
    }
   ],
   "source": [
    "li.sort(key=rules, reverse=True)\n",
    "li"
   ]
  },
  {
   "cell_type": "markdown",
   "metadata": {},
   "source": [
    "### 1.2. Tuple\n",
    "- Immutable --> Không thể thay đổi giá trị được \n",
    "- Indexing --> Giống list\n",
    "- (), tuple()"
   ]
  },
  {
   "cell_type": "code",
   "execution_count": 65,
   "metadata": {},
   "outputs": [],
   "source": [
    "tup_1 = (1, 2, 3, 4)\n",
    "tup_2 = tuple((5, 6, 7, 8))"
   ]
  },
  {
   "cell_type": "code",
   "execution_count": 66,
   "metadata": {},
   "outputs": [
    {
     "data": {
      "text/plain": [
       "(1, 2, 3, 4)"
      ]
     },
     "execution_count": 66,
     "metadata": {},
     "output_type": "execute_result"
    }
   ],
   "source": [
    "tup_1"
   ]
  },
  {
   "cell_type": "code",
   "execution_count": 67,
   "metadata": {},
   "outputs": [
    {
     "data": {
      "text/plain": [
       "(5, 6, 7, 8)"
      ]
     },
     "execution_count": 67,
     "metadata": {},
     "output_type": "execute_result"
    }
   ],
   "source": [
    "tup_2"
   ]
  },
  {
   "cell_type": "code",
   "execution_count": 69,
   "metadata": {},
   "outputs": [
    {
     "ename": "TypeError",
     "evalue": "'tuple' object does not support item assignment",
     "output_type": "error",
     "traceback": [
      "\u001b[0;31m---------------------------------------------------------------------------\u001b[0m",
      "\u001b[0;31mTypeError\u001b[0m                                 Traceback (most recent call last)",
      "\u001b[0;32m<ipython-input-69-935f5d899f62>\u001b[0m in \u001b[0;36m<module>\u001b[0;34m\u001b[0m\n\u001b[0;32m----> 1\u001b[0;31m \u001b[0mtup_1\u001b[0m\u001b[0;34m[\u001b[0m\u001b[0;36m0\u001b[0m\u001b[0;34m]\u001b[0m \u001b[0;34m=\u001b[0m \u001b[0;36m3\u001b[0m\u001b[0;34m\u001b[0m\u001b[0;34m\u001b[0m\u001b[0m\n\u001b[0m",
      "\u001b[0;31mTypeError\u001b[0m: 'tuple' object does not support item assignment"
     ]
    }
   ],
   "source": [
    "tup_1[0] = 3"
   ]
  },
  {
   "cell_type": "code",
   "execution_count": 70,
   "metadata": {},
   "outputs": [
    {
     "data": {
      "text/plain": [
       "['count', 'index']"
      ]
     },
     "execution_count": 70,
     "metadata": {},
     "output_type": "execute_result"
    }
   ],
   "source": [
    "[method for method in dir(tup_1) if not method.startswith('__')]"
   ]
  },
  {
   "cell_type": "code",
   "execution_count": 71,
   "metadata": {},
   "outputs": [
    {
     "data": {
      "text/plain": [
       "(1, 2, 3, 4)"
      ]
     },
     "execution_count": 71,
     "metadata": {},
     "output_type": "execute_result"
    }
   ],
   "source": [
    "tup_1"
   ]
  },
  {
   "cell_type": "code",
   "execution_count": 72,
   "metadata": {},
   "outputs": [
    {
     "data": {
      "text/plain": [
       "1"
      ]
     },
     "execution_count": 72,
     "metadata": {},
     "output_type": "execute_result"
    }
   ],
   "source": [
    "tup_1.count(3)"
   ]
  },
  {
   "cell_type": "code",
   "execution_count": 73,
   "metadata": {},
   "outputs": [],
   "source": [
    "tup_3 = (3, 3, 4, 4, 4, 5, 6)"
   ]
  },
  {
   "cell_type": "code",
   "execution_count": 74,
   "metadata": {},
   "outputs": [
    {
     "data": {
      "text/plain": [
       "3"
      ]
     },
     "execution_count": 74,
     "metadata": {},
     "output_type": "execute_result"
    }
   ],
   "source": [
    "tup_3.count(4)"
   ]
  },
  {
   "cell_type": "code",
   "execution_count": 78,
   "metadata": {},
   "outputs": [
    {
     "data": {
      "text/plain": [
       "3"
      ]
     },
     "execution_count": 78,
     "metadata": {},
     "output_type": "execute_result"
    }
   ],
   "source": [
    "tup_3.index(4, 3)"
   ]
  },
  {
   "cell_type": "code",
   "execution_count": 79,
   "metadata": {},
   "outputs": [
    {
     "data": {
      "text/plain": [
       "(3, 3, 4, 4, 4, 5, 6)"
      ]
     },
     "execution_count": 79,
     "metadata": {},
     "output_type": "execute_result"
    }
   ],
   "source": [
    "tup_3"
   ]
  },
  {
   "cell_type": "code",
   "execution_count": 80,
   "metadata": {},
   "outputs": [],
   "source": [
    "a, *c , b = tup_3"
   ]
  },
  {
   "cell_type": "code",
   "execution_count": 81,
   "metadata": {},
   "outputs": [
    {
     "data": {
      "text/plain": [
       "3"
      ]
     },
     "execution_count": 81,
     "metadata": {},
     "output_type": "execute_result"
    }
   ],
   "source": [
    "a"
   ]
  },
  {
   "cell_type": "code",
   "execution_count": 82,
   "metadata": {},
   "outputs": [
    {
     "data": {
      "text/plain": [
       "6"
      ]
     },
     "execution_count": 82,
     "metadata": {},
     "output_type": "execute_result"
    }
   ],
   "source": [
    "b"
   ]
  },
  {
   "cell_type": "code",
   "execution_count": 83,
   "metadata": {},
   "outputs": [
    {
     "data": {
      "text/plain": [
       "[3, 4, 4, 4, 5]"
      ]
     },
     "execution_count": 83,
     "metadata": {},
     "output_type": "execute_result"
    }
   ],
   "source": [
    "c"
   ]
  },
  {
   "cell_type": "code",
   "execution_count": 84,
   "metadata": {},
   "outputs": [
    {
     "data": {
      "text/plain": [
       "[]"
      ]
     },
     "execution_count": 84,
     "metadata": {},
     "output_type": "execute_result"
    }
   ],
   "source": [
    "a = []\n",
    "a"
   ]
  },
  {
   "cell_type": "code",
   "execution_count": 85,
   "metadata": {},
   "outputs": [
    {
     "data": {
      "text/plain": [
       "['Truong', 'Nguyen', (3+4j), False, True, None]"
      ]
     },
     "execution_count": 85,
     "metadata": {},
     "output_type": "execute_result"
    }
   ],
   "source": [
    "li"
   ]
  },
  {
   "cell_type": "code",
   "execution_count": 86,
   "metadata": {},
   "outputs": [
    {
     "name": "stdout",
     "output_type": "stream",
     "text": [
      "TruongTruongTruong\n",
      "NguyenNguyenNguyen\n",
      "(9+12j)\n",
      "0\n",
      "3\n"
     ]
    },
    {
     "ename": "TypeError",
     "evalue": "unsupported operand type(s) for *: 'NoneType' and 'int'",
     "output_type": "error",
     "traceback": [
      "\u001b[0;31m---------------------------------------------------------------------------\u001b[0m",
      "\u001b[0;31mTypeError\u001b[0m                                 Traceback (most recent call last)",
      "\u001b[0;32m<ipython-input-86-d1fc7706e1f9>\u001b[0m in \u001b[0;36m<module>\u001b[0;34m\u001b[0m\n\u001b[1;32m      1\u001b[0m \u001b[0;32mfor\u001b[0m \u001b[0mitem\u001b[0m \u001b[0;32min\u001b[0m \u001b[0mli\u001b[0m\u001b[0;34m:\u001b[0m\u001b[0;34m\u001b[0m\u001b[0;34m\u001b[0m\u001b[0m\n\u001b[0;32m----> 2\u001b[0;31m     \u001b[0mprint\u001b[0m\u001b[0;34m(\u001b[0m\u001b[0mitem\u001b[0m \u001b[0;34m*\u001b[0m \u001b[0;36m3\u001b[0m\u001b[0;34m)\u001b[0m\u001b[0;34m\u001b[0m\u001b[0;34m\u001b[0m\u001b[0m\n\u001b[0m",
      "\u001b[0;31mTypeError\u001b[0m: unsupported operand type(s) for *: 'NoneType' and 'int'"
     ]
    }
   ],
   "source": [
    "for item in li:\n",
    "    print(item * 3)"
   ]
  },
  {
   "cell_type": "markdown",
   "metadata": {},
   "source": [
    "### 1.2 Set\n",
    "- Không có phần tử trùng lặp\n",
    "- Non-indexing\n",
    "- Unordered \n",
    "- {a, b, c}, set() "
   ]
  },
  {
   "cell_type": "code",
   "execution_count": 89,
   "metadata": {},
   "outputs": [
    {
     "data": {
      "text/plain": [
       "{3, 4, 5, 55, False, True, 'Truong'}"
      ]
     },
     "execution_count": 89,
     "metadata": {},
     "output_type": "execute_result"
    }
   ],
   "source": [
    "set_1 = {3, 4, 4, 5, 55, 55, 'Truong', True, False}\n",
    "set_1"
   ]
  },
  {
   "cell_type": "code",
   "execution_count": 90,
   "metadata": {},
   "outputs": [
    {
     "name": "stdout",
     "output_type": "stream",
     "text": [
      "False\n",
      "True\n",
      "3\n",
      "4\n",
      "5\n",
      "55\n",
      "Truong\n"
     ]
    }
   ],
   "source": [
    "for item in set_1:\n",
    "    print(item)"
   ]
  },
  {
   "cell_type": "code",
   "execution_count": 91,
   "metadata": {},
   "outputs": [
    {
     "ename": "TypeError",
     "evalue": "'set' object is not subscriptable",
     "output_type": "error",
     "traceback": [
      "\u001b[0;31m---------------------------------------------------------------------------\u001b[0m",
      "\u001b[0;31mTypeError\u001b[0m                                 Traceback (most recent call last)",
      "\u001b[0;32m<ipython-input-91-a26ed39fc722>\u001b[0m in \u001b[0;36m<module>\u001b[0;34m\u001b[0m\n\u001b[0;32m----> 1\u001b[0;31m \u001b[0mset_1\u001b[0m\u001b[0;34m[\u001b[0m\u001b[0;36m0\u001b[0m\u001b[0;34m]\u001b[0m\u001b[0;34m\u001b[0m\u001b[0;34m\u001b[0m\u001b[0m\n\u001b[0m",
      "\u001b[0;31mTypeError\u001b[0m: 'set' object is not subscriptable"
     ]
    }
   ],
   "source": [
    "set_1[0]"
   ]
  },
  {
   "cell_type": "code",
   "execution_count": 92,
   "metadata": {},
   "outputs": [
    {
     "data": {
      "text/plain": [
       "['add',\n",
       " 'clear',\n",
       " 'copy',\n",
       " 'difference',\n",
       " 'difference_update',\n",
       " 'discard',\n",
       " 'intersection',\n",
       " 'intersection_update',\n",
       " 'isdisjoint',\n",
       " 'issubset',\n",
       " 'issuperset',\n",
       " 'pop',\n",
       " 'remove',\n",
       " 'symmetric_difference',\n",
       " 'symmetric_difference_update',\n",
       " 'union',\n",
       " 'update']"
      ]
     },
     "execution_count": 92,
     "metadata": {},
     "output_type": "execute_result"
    }
   ],
   "source": [
    "[method for method in dir(set) if not method.startswith('__')]"
   ]
  },
  {
   "cell_type": "markdown",
   "metadata": {},
   "source": [
    "![](https://i.pinimg.com/originals/92/74/49/927449ed2c05f7cabe41d12d0db4c0ac.png)"
   ]
  },
  {
   "cell_type": "code",
   "execution_count": 95,
   "metadata": {},
   "outputs": [
    {
     "data": {
      "text/plain": [
       "{3, 4, 5, 55, False, True, 'Truong'}"
      ]
     },
     "execution_count": 95,
     "metadata": {},
     "output_type": "execute_result"
    }
   ],
   "source": [
    "set_1"
   ]
  },
  {
   "cell_type": "code",
   "execution_count": 96,
   "metadata": {},
   "outputs": [],
   "source": [
    "set_2 = {4, 5, False, 'Nhu', 10, None}"
   ]
  },
  {
   "cell_type": "code",
   "execution_count": 97,
   "metadata": {},
   "outputs": [
    {
     "data": {
      "text/plain": [
       "({3, 4, 5, 55, False, True, 'Truong'}, {10, 4, 5, False, 'Nhu', None})"
      ]
     },
     "execution_count": 97,
     "metadata": {},
     "output_type": "execute_result"
    }
   ],
   "source": [
    "set_1, set_2"
   ]
  },
  {
   "cell_type": "code",
   "execution_count": 100,
   "metadata": {},
   "outputs": [],
   "source": [
    "set_3 = set_1.difference(set_2)"
   ]
  },
  {
   "cell_type": "code",
   "execution_count": 101,
   "metadata": {},
   "outputs": [
    {
     "data": {
      "text/plain": [
       "{3, 55, True, 'Truong'}"
      ]
     },
     "execution_count": 101,
     "metadata": {},
     "output_type": "execute_result"
    }
   ],
   "source": [
    "set_3"
   ]
  },
  {
   "cell_type": "code",
   "execution_count": 102,
   "metadata": {},
   "outputs": [
    {
     "data": {
      "text/plain": [
       "({3, 4, 5, 55, False, True, 'Truong'}, {10, 4, 5, False, 'Nhu', None})"
      ]
     },
     "execution_count": 102,
     "metadata": {},
     "output_type": "execute_result"
    }
   ],
   "source": [
    "set_1, set_2"
   ]
  },
  {
   "cell_type": "code",
   "execution_count": 103,
   "metadata": {},
   "outputs": [],
   "source": [
    "set_4 = set_1.difference_update(set_2)"
   ]
  },
  {
   "cell_type": "code",
   "execution_count": 104,
   "metadata": {},
   "outputs": [],
   "source": [
    "set_4"
   ]
  },
  {
   "cell_type": "code",
   "execution_count": 105,
   "metadata": {},
   "outputs": [
    {
     "data": {
      "text/plain": [
       "{3, 55, True, 'Truong'}"
      ]
     },
     "execution_count": 105,
     "metadata": {},
     "output_type": "execute_result"
    }
   ],
   "source": [
    "set_1"
   ]
  },
  {
   "cell_type": "code",
   "execution_count": 106,
   "metadata": {},
   "outputs": [
    {
     "ename": "NameError",
     "evalue": "name 'Truong' is not defined",
     "output_type": "error",
     "traceback": [
      "\u001b[0;31m---------------------------------------------------------------------------\u001b[0m",
      "\u001b[0;31mNameError\u001b[0m                                 Traceback (most recent call last)",
      "\u001b[0;32m<ipython-input-106-e635d362186e>\u001b[0m in \u001b[0;36m<module>\u001b[0;34m\u001b[0m\n\u001b[0;32m----> 1\u001b[0;31m \u001b[0mset_5\u001b[0m \u001b[0;34m=\u001b[0m \u001b[0;34m{\u001b[0m\u001b[0mTruong\u001b[0m\u001b[0;34m,\u001b[0m \u001b[0mTrung\u001b[0m\u001b[0;34m,\u001b[0m \u001b[0;36m3\u001b[0m\u001b[0;34m,\u001b[0m \u001b[0;36m4\u001b[0m\u001b[0;34m}\u001b[0m\u001b[0;34m\u001b[0m\u001b[0;34m\u001b[0m\u001b[0m\n\u001b[0m\u001b[1;32m      2\u001b[0m \u001b[0mset_5\u001b[0m\u001b[0;34m\u001b[0m\u001b[0;34m\u001b[0m\u001b[0m\n",
      "\u001b[0;31mNameError\u001b[0m: name 'Truong' is not defined"
     ]
    }
   ],
   "source": [
    "set_5 = {Truong, Trung, 3, 4}\n",
    "set_5"
   ]
  },
  {
   "cell_type": "code",
   "execution_count": 107,
   "metadata": {},
   "outputs": [],
   "source": [
    "Truong = 3"
   ]
  },
  {
   "cell_type": "code",
   "execution_count": 109,
   "metadata": {},
   "outputs": [
    {
     "data": {
      "text/plain": [
       "3"
      ]
     },
     "execution_count": 109,
     "metadata": {},
     "output_type": "execute_result"
    }
   ],
   "source": [
    "Truong"
   ]
  },
  {
   "cell_type": "code",
   "execution_count": 110,
   "metadata": {},
   "outputs": [
    {
     "data": {
      "text/plain": [
       "{3, 55, True, 'Truong'}"
      ]
     },
     "execution_count": 110,
     "metadata": {},
     "output_type": "execute_result"
    }
   ],
   "source": [
    "set_1"
   ]
  },
  {
   "cell_type": "code",
   "execution_count": 111,
   "metadata": {},
   "outputs": [
    {
     "data": {
      "text/plain": [
       "140431577674464"
      ]
     },
     "execution_count": 111,
     "metadata": {},
     "output_type": "execute_result"
    }
   ],
   "source": [
    "id(set_1)"
   ]
  },
  {
   "cell_type": "code",
   "execution_count": 112,
   "metadata": {},
   "outputs": [
    {
     "name": "stdout",
     "output_type": "stream",
     "text": [
      "{True, 3, 'Truong', 55}\n"
     ]
    },
    {
     "data": {
      "text/plain": [
       "140431569765536"
      ]
     },
     "execution_count": 112,
     "metadata": {},
     "output_type": "execute_result"
    }
   ],
   "source": [
    "se = set_1.copy()\n",
    "print(se)\n",
    "id(se)"
   ]
  },
  {
   "cell_type": "code",
   "execution_count": null,
   "metadata": {},
   "outputs": [],
   "source": []
  }
 ],
 "metadata": {
  "kernelspec": {
   "display_name": "Python 3",
   "language": "python",
   "name": "python3"
  },
  "language_info": {
   "codemirror_mode": {
    "name": "ipython",
    "version": 3
   },
   "file_extension": ".py",
   "mimetype": "text/x-python",
   "name": "python",
   "nbconvert_exporter": "python",
   "pygments_lexer": "ipython3",
   "version": "3.7.9"
  }
 },
 "nbformat": 4,
 "nbformat_minor": 4
}
