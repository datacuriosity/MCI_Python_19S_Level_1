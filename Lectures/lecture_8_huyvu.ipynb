{
 "cells": [
  {
   "cell_type": "code",
   "execution_count": 4,
   "metadata": {},
   "outputs": [
    {
     "name": "stdout",
     "output_type": "stream",
     "text": [
      "Requirement already satisfied: mysql-connector-python in c:\\users\\huy\\anaconda3\\envs\\huyvu\\lib\\site-packages (8.0.23)\n",
      "Requirement already satisfied: protobuf>=3.0.0 in c:\\users\\huy\\anaconda3\\envs\\huyvu\\lib\\site-packages (from mysql-connector-python) (3.14.0)\n",
      "Requirement already satisfied: six>=1.9 in c:\\users\\huy\\anaconda3\\envs\\huyvu\\lib\\site-packages (from protobuf>=3.0.0->mysql-connector-python) (1.15.0)\n",
      "Collecting sqlalchemy\n",
      "  Downloading SQLAlchemy-1.3.22-cp37-cp37m-win_amd64.whl (1.2 MB)\n",
      "Installing collected packages: sqlalchemy\n",
      "Successfully installed sqlalchemy-1.3.22\n"
     ]
    }
   ],
   "source": [
    "!pip install mysql-connector-python\n",
    "!pip install sqlalchemy"
   ]
  },
  {
   "cell_type": "code",
   "execution_count": 5,
   "metadata": {},
   "outputs": [],
   "source": [
    "import pandas as pd\n",
    "import mysql.connector\n",
    "import sqlalchemy as sa"
   ]
  },
  {
   "cell_type": "code",
   "execution_count": 6,
   "metadata": {},
   "outputs": [],
   "source": [
    "connection = mysql.connector.connect(host='localhost',\n",
    "                                     user='root',\n",
    "                                    password='huy.,123',\n",
    "                                    db='bank')\n",
    "query = \"SELECT * FROM ACCOUNT\""
   ]
  },
  {
   "cell_type": "code",
   "execution_count": 7,
   "metadata": {},
   "outputs": [
    {
     "data": {
      "text/html": [
       "<div>\n",
       "<style scoped>\n",
       "    .dataframe tbody tr th:only-of-type {\n",
       "        vertical-align: middle;\n",
       "    }\n",
       "\n",
       "    .dataframe tbody tr th {\n",
       "        vertical-align: top;\n",
       "    }\n",
       "\n",
       "    .dataframe thead th {\n",
       "        text-align: right;\n",
       "    }\n",
       "</style>\n",
       "<table border=\"1\" class=\"dataframe\">\n",
       "  <thead>\n",
       "    <tr style=\"text-align: right;\">\n",
       "      <th></th>\n",
       "      <th>ACCOUNT_ID</th>\n",
       "      <th>AVAIL_BALANCE</th>\n",
       "      <th>CLOSE_DATE</th>\n",
       "      <th>LAST_ACTIVITY_DATE</th>\n",
       "      <th>OPEN_DATE</th>\n",
       "      <th>PENDING_BALANCE</th>\n",
       "      <th>STATUS</th>\n",
       "      <th>CUST_ID</th>\n",
       "      <th>OPEN_BRANCH_ID</th>\n",
       "      <th>OPEN_EMP_ID</th>\n",
       "      <th>PRODUCT_CD</th>\n",
       "    </tr>\n",
       "  </thead>\n",
       "  <tbody>\n",
       "    <tr>\n",
       "      <th>0</th>\n",
       "      <td>1</td>\n",
       "      <td>1057.75</td>\n",
       "      <td>None</td>\n",
       "      <td>2005-01-04</td>\n",
       "      <td>2000-01-15</td>\n",
       "      <td>1057.75</td>\n",
       "      <td>ACTIVE</td>\n",
       "      <td>1</td>\n",
       "      <td>2</td>\n",
       "      <td>10</td>\n",
       "      <td>CHK</td>\n",
       "    </tr>\n",
       "    <tr>\n",
       "      <th>1</th>\n",
       "      <td>2</td>\n",
       "      <td>500.00</td>\n",
       "      <td>None</td>\n",
       "      <td>2004-12-19</td>\n",
       "      <td>2000-01-15</td>\n",
       "      <td>500.00</td>\n",
       "      <td>ACTIVE</td>\n",
       "      <td>1</td>\n",
       "      <td>2</td>\n",
       "      <td>10</td>\n",
       "      <td>SAV</td>\n",
       "    </tr>\n",
       "  </tbody>\n",
       "</table>\n",
       "</div>"
      ],
      "text/plain": [
       "   ACCOUNT_ID  AVAIL_BALANCE CLOSE_DATE LAST_ACTIVITY_DATE   OPEN_DATE  \\\n",
       "0           1        1057.75       None         2005-01-04  2000-01-15   \n",
       "1           2         500.00       None         2004-12-19  2000-01-15   \n",
       "\n",
       "   PENDING_BALANCE  STATUS  CUST_ID  OPEN_BRANCH_ID  OPEN_EMP_ID PRODUCT_CD  \n",
       "0          1057.75  ACTIVE        1               2           10        CHK  \n",
       "1           500.00  ACTIVE        1               2           10        SAV  "
      ]
     },
     "execution_count": 7,
     "metadata": {},
     "output_type": "execute_result"
    }
   ],
   "source": [
    "pd.read_sql(query, connection).head(2)"
   ]
  },
  {
   "cell_type": "code",
   "execution_count": 10,
   "metadata": {},
   "outputs": [],
   "source": [
    "department = \"SELECT * FROM DEPARTMENT\"\n",
    "department = pd.read_sql(department, connection)\n",
    "\n",
    "branch = \"SELECT * FROM BRANCH\"\n",
    "branch = pd.read_sql(branch, connection)\n",
    "\n",
    "employee = \"SELECT * FROM EMPLOYEE\"\n",
    "employee = pd.read_sql(employee, connection)\n",
    "\n",
    "account = \"SELECT * FROM ACCOUNT\"\n",
    "account = pd.read_sql(account, connection)"
   ]
  },
  {
   "cell_type": "code",
   "execution_count": null,
   "metadata": {},
   "outputs": [],
   "source": [
    "employee.merge(account, left_on='EMP_ID', how='inner', right_on='OPEN_EMP_ID')\\\n",
    ".merge(branch, how='inner', left_on ='ASSIGNED_BRANCH', right_on='BRANCH_ID')\\\n",
    ".merge(department, how='inner', left_on='DEPT_ID', right_on='DEPT_ID')"
   ]
  }
 ],
 "metadata": {
  "kernelspec": {
   "display_name": "Python 3",
   "language": "python",
   "name": "python3"
  },
  "language_info": {
   "codemirror_mode": {
    "name": "ipython",
    "version": 3
   },
   "file_extension": ".py",
   "mimetype": "text/x-python",
   "name": "python",
   "nbconvert_exporter": "python",
   "pygments_lexer": "ipython3",
   "version": "3.7.9"
  }
 },
 "nbformat": 4,
 "nbformat_minor": 4
}
