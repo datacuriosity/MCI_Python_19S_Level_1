{
 "cells": [
  {
   "cell_type": "code",
   "execution_count": 8,
   "metadata": {},
   "outputs": [],
   "source": [
    "import pandas as pd\n",
    "import mysql.connector \n",
    "import sqlalchemy as sa"
   ]
  },
  {
   "cell_type": "code",
   "execution_count": 10,
   "metadata": {},
   "outputs": [],
   "source": [
    "connection = mysql.connector.connect(host='localhost',\n",
    "                                     user='root',\n",
    "                                     password=password,\n",
    "                                     db='learningsql')\n",
    "\n",
    "query = \"SELECT * FROM ACCOUNT\""
   ]
  },
  {
   "cell_type": "code",
   "execution_count": 12,
   "metadata": {},
   "outputs": [
    {
     "data": {
      "text/html": [
       "<div>\n",
       "<style scoped>\n",
       "    .dataframe tbody tr th:only-of-type {\n",
       "        vertical-align: middle;\n",
       "    }\n",
       "\n",
       "    .dataframe tbody tr th {\n",
       "        vertical-align: top;\n",
       "    }\n",
       "\n",
       "    .dataframe thead th {\n",
       "        text-align: right;\n",
       "    }\n",
       "</style>\n",
       "<table border=\"1\" class=\"dataframe\">\n",
       "  <thead>\n",
       "    <tr style=\"text-align: right;\">\n",
       "      <th></th>\n",
       "      <th>ACCOUNT_ID</th>\n",
       "      <th>AVAIL_BALANCE</th>\n",
       "      <th>CLOSE_DATE</th>\n",
       "      <th>LAST_ACTIVITY_DATE</th>\n",
       "      <th>OPEN_DATE</th>\n",
       "      <th>PENDING_BALANCE</th>\n",
       "      <th>STATUS</th>\n",
       "      <th>CUST_ID</th>\n",
       "      <th>OPEN_BRANCH_ID</th>\n",
       "      <th>OPEN_EMP_ID</th>\n",
       "      <th>PRODUCT_CD</th>\n",
       "    </tr>\n",
       "  </thead>\n",
       "  <tbody>\n",
       "    <tr>\n",
       "      <th>0</th>\n",
       "      <td>1</td>\n",
       "      <td>1057.75</td>\n",
       "      <td>None</td>\n",
       "      <td>2005-01-04</td>\n",
       "      <td>2000-01-15</td>\n",
       "      <td>1057.75</td>\n",
       "      <td>ACTIVE</td>\n",
       "      <td>1</td>\n",
       "      <td>2</td>\n",
       "      <td>10</td>\n",
       "      <td>CHK</td>\n",
       "    </tr>\n",
       "    <tr>\n",
       "      <th>1</th>\n",
       "      <td>2</td>\n",
       "      <td>500.00</td>\n",
       "      <td>None</td>\n",
       "      <td>2004-12-19</td>\n",
       "      <td>2000-01-15</td>\n",
       "      <td>500.00</td>\n",
       "      <td>ACTIVE</td>\n",
       "      <td>1</td>\n",
       "      <td>2</td>\n",
       "      <td>10</td>\n",
       "      <td>SAV</td>\n",
       "    </tr>\n",
       "  </tbody>\n",
       "</table>\n",
       "</div>"
      ],
      "text/plain": [
       "   ACCOUNT_ID  AVAIL_BALANCE CLOSE_DATE LAST_ACTIVITY_DATE   OPEN_DATE  \\\n",
       "0           1        1057.75       None         2005-01-04  2000-01-15   \n",
       "1           2         500.00       None         2004-12-19  2000-01-15   \n",
       "\n",
       "   PENDING_BALANCE  STATUS  CUST_ID  OPEN_BRANCH_ID  OPEN_EMP_ID PRODUCT_CD  \n",
       "0          1057.75  ACTIVE        1               2           10        CHK  \n",
       "1           500.00  ACTIVE        1               2           10        SAV  "
      ]
     },
     "execution_count": 12,
     "metadata": {},
     "output_type": "execute_result"
    }
   ],
   "source": [
    "pd.read_sql(query, connection).head(2)"
   ]
  },
  {
   "cell_type": "code",
   "execution_count": 13,
   "metadata": {},
   "outputs": [
    {
     "data": {
      "text/html": [
       "<div>\n",
       "<style scoped>\n",
       "    .dataframe tbody tr th:only-of-type {\n",
       "        vertical-align: middle;\n",
       "    }\n",
       "\n",
       "    .dataframe tbody tr th {\n",
       "        vertical-align: top;\n",
       "    }\n",
       "\n",
       "    .dataframe thead th {\n",
       "        text-align: right;\n",
       "    }\n",
       "</style>\n",
       "<table border=\"1\" class=\"dataframe\">\n",
       "  <thead>\n",
       "    <tr style=\"text-align: right;\">\n",
       "      <th></th>\n",
       "      <th>ACCOUNT_ID</th>\n",
       "      <th>FULL_NAME</th>\n",
       "      <th>ADDRESS</th>\n",
       "      <th>BUSINESS_NAME</th>\n",
       "      <th>AVAIL_BALANCE</th>\n",
       "    </tr>\n",
       "  </thead>\n",
       "  <tbody>\n",
       "    <tr>\n",
       "      <th>0</th>\n",
       "      <td>29</td>\n",
       "      <td>None</td>\n",
       "      <td>4772 Presidential Way</td>\n",
       "      <td>AAA Insurance Inc.</td>\n",
       "      <td>50000.0</td>\n",
       "    </tr>\n",
       "    <tr>\n",
       "      <th>1</th>\n",
       "      <td>28</td>\n",
       "      <td>None</td>\n",
       "      <td>789 Main St</td>\n",
       "      <td>Superior Auto Body</td>\n",
       "      <td>38552.1</td>\n",
       "    </tr>\n",
       "    <tr>\n",
       "      <th>2</th>\n",
       "      <td>24</td>\n",
       "      <td>None</td>\n",
       "      <td>7 Industrial Way</td>\n",
       "      <td>Chilton Engineering</td>\n",
       "      <td>23575.1</td>\n",
       "    </tr>\n",
       "  </tbody>\n",
       "</table>\n",
       "</div>"
      ],
      "text/plain": [
       "   ACCOUNT_ID FULL_NAME                ADDRESS        BUSINESS_NAME  \\\n",
       "0          29      None  4772 Presidential Way   AAA Insurance Inc.   \n",
       "1          28      None            789 Main St   Superior Auto Body   \n",
       "2          24      None       7 Industrial Way  Chilton Engineering   \n",
       "\n",
       "   AVAIL_BALANCE  \n",
       "0        50000.0  \n",
       "1        38552.1  \n",
       "2        23575.1  "
      ]
     },
     "execution_count": 13,
     "metadata": {},
     "output_type": "execute_result"
    }
   ],
   "source": [
    "sql = \"\"\"SELECT a.ACCOUNT_ID, concat(i.LAST_NAME, ' ', i.FIRST_NAME) as FULL_NAME,\n",
    "       c.ADDRESS, b.NAME AS BUSINESS_NAME, a.AVAIL_BALANCE FROM ACCOUNT a\n",
    "    INNER JOIN CUSTOMER C on a.CUST_ID = C.CUST_ID\n",
    "    LEFT JOIN INDIVIDUAL I on C.CUST_ID = I.CUST_ID\n",
    "    LEFT JOIN BUSINESS B on C.CUST_ID = B.CUST_ID ORDER BY AVAIL_BALANCE desc LIMIT 3;\"\"\"\n",
    "\n",
    "pd.read_sql(sql, connection)"
   ]
  },
  {
   "cell_type": "code",
   "execution_count": 15,
   "metadata": {},
   "outputs": [],
   "source": [
    "department = \"SELECT * FROM DEPARTMENT\"\n",
    "department = pd.read_sql(department, connection)\n",
    "\n",
    "branch = \"SELECT * FROM BRANCH\"\n",
    "branch = pd.read_sql(branch, connection)\n",
    "\n",
    "employee = \"SELECT * FROM employee\"\n",
    "employee = pd.read_sql(employee, connection)\n",
    "\n",
    "account = \"SELECT * FROM account\"\n",
    "account = pd.read_sql(account, connection)"
   ]
  },
  {
   "cell_type": "markdown",
   "metadata": {},
   "source": [
    "# Tìm 3 employee quản lý 3 accounts có số dư cao nhất."
   ]
  },
  {
   "cell_type": "code",
   "execution_count": 16,
   "metadata": {},
   "outputs": [
    {
     "data": {
      "text/html": [
       "<div>\n",
       "<style scoped>\n",
       "    .dataframe tbody tr th:only-of-type {\n",
       "        vertical-align: middle;\n",
       "    }\n",
       "\n",
       "    .dataframe tbody tr th {\n",
       "        vertical-align: top;\n",
       "    }\n",
       "\n",
       "    .dataframe thead th {\n",
       "        text-align: right;\n",
       "    }\n",
       "</style>\n",
       "<table border=\"1\" class=\"dataframe\">\n",
       "  <thead>\n",
       "    <tr style=\"text-align: right;\">\n",
       "      <th></th>\n",
       "      <th>DEPT_ID</th>\n",
       "      <th>NAME</th>\n",
       "    </tr>\n",
       "  </thead>\n",
       "  <tbody>\n",
       "    <tr>\n",
       "      <th>0</th>\n",
       "      <td>1</td>\n",
       "      <td>Operations</td>\n",
       "    </tr>\n",
       "  </tbody>\n",
       "</table>\n",
       "</div>"
      ],
      "text/plain": [
       "   DEPT_ID        NAME\n",
       "0        1  Operations"
      ]
     },
     "execution_count": 16,
     "metadata": {},
     "output_type": "execute_result"
    }
   ],
   "source": [
    "department.head(1)"
   ]
  },
  {
   "cell_type": "code",
   "execution_count": 17,
   "metadata": {},
   "outputs": [
    {
     "data": {
      "text/html": [
       "<div>\n",
       "<style scoped>\n",
       "    .dataframe tbody tr th:only-of-type {\n",
       "        vertical-align: middle;\n",
       "    }\n",
       "\n",
       "    .dataframe tbody tr th {\n",
       "        vertical-align: top;\n",
       "    }\n",
       "\n",
       "    .dataframe thead th {\n",
       "        text-align: right;\n",
       "    }\n",
       "</style>\n",
       "<table border=\"1\" class=\"dataframe\">\n",
       "  <thead>\n",
       "    <tr style=\"text-align: right;\">\n",
       "      <th></th>\n",
       "      <th>BRANCH_ID</th>\n",
       "      <th>ADDRESS</th>\n",
       "      <th>CITY</th>\n",
       "      <th>NAME</th>\n",
       "      <th>STATE</th>\n",
       "      <th>ZIP_CODE</th>\n",
       "    </tr>\n",
       "  </thead>\n",
       "  <tbody>\n",
       "    <tr>\n",
       "      <th>0</th>\n",
       "      <td>1</td>\n",
       "      <td>3882 Main St.</td>\n",
       "      <td>Waltham</td>\n",
       "      <td>Headquarters</td>\n",
       "      <td>MA</td>\n",
       "      <td>02451</td>\n",
       "    </tr>\n",
       "  </tbody>\n",
       "</table>\n",
       "</div>"
      ],
      "text/plain": [
       "   BRANCH_ID        ADDRESS     CITY          NAME STATE ZIP_CODE\n",
       "0          1  3882 Main St.  Waltham  Headquarters    MA    02451"
      ]
     },
     "execution_count": 17,
     "metadata": {},
     "output_type": "execute_result"
    }
   ],
   "source": [
    "branch.head(1)"
   ]
  },
  {
   "cell_type": "code",
   "execution_count": 18,
   "metadata": {},
   "outputs": [
    {
     "data": {
      "text/html": [
       "<div>\n",
       "<style scoped>\n",
       "    .dataframe tbody tr th:only-of-type {\n",
       "        vertical-align: middle;\n",
       "    }\n",
       "\n",
       "    .dataframe tbody tr th {\n",
       "        vertical-align: top;\n",
       "    }\n",
       "\n",
       "    .dataframe thead th {\n",
       "        text-align: right;\n",
       "    }\n",
       "</style>\n",
       "<table border=\"1\" class=\"dataframe\">\n",
       "  <thead>\n",
       "    <tr style=\"text-align: right;\">\n",
       "      <th></th>\n",
       "      <th>EMP_ID</th>\n",
       "      <th>END_DATE</th>\n",
       "      <th>FIRST_NAME</th>\n",
       "      <th>LAST_NAME</th>\n",
       "      <th>START_DATE</th>\n",
       "      <th>TITLE</th>\n",
       "      <th>ASSIGNED_BRANCH_ID</th>\n",
       "      <th>DEPT_ID</th>\n",
       "      <th>SUPERIOR_EMP_ID</th>\n",
       "    </tr>\n",
       "  </thead>\n",
       "  <tbody>\n",
       "    <tr>\n",
       "      <th>0</th>\n",
       "      <td>1</td>\n",
       "      <td>None</td>\n",
       "      <td>Michael</td>\n",
       "      <td>Smith</td>\n",
       "      <td>2001-06-22</td>\n",
       "      <td>President</td>\n",
       "      <td>1</td>\n",
       "      <td>3</td>\n",
       "      <td>NaN</td>\n",
       "    </tr>\n",
       "  </tbody>\n",
       "</table>\n",
       "</div>"
      ],
      "text/plain": [
       "   EMP_ID END_DATE FIRST_NAME LAST_NAME  START_DATE      TITLE  \\\n",
       "0       1     None    Michael     Smith  2001-06-22  President   \n",
       "\n",
       "   ASSIGNED_BRANCH_ID  DEPT_ID  SUPERIOR_EMP_ID  \n",
       "0                   1        3              NaN  "
      ]
     },
     "execution_count": 18,
     "metadata": {},
     "output_type": "execute_result"
    }
   ],
   "source": [
    "employee.head(1)"
   ]
  },
  {
   "cell_type": "code",
   "execution_count": 19,
   "metadata": {},
   "outputs": [
    {
     "data": {
      "text/html": [
       "<div>\n",
       "<style scoped>\n",
       "    .dataframe tbody tr th:only-of-type {\n",
       "        vertical-align: middle;\n",
       "    }\n",
       "\n",
       "    .dataframe tbody tr th {\n",
       "        vertical-align: top;\n",
       "    }\n",
       "\n",
       "    .dataframe thead th {\n",
       "        text-align: right;\n",
       "    }\n",
       "</style>\n",
       "<table border=\"1\" class=\"dataframe\">\n",
       "  <thead>\n",
       "    <tr style=\"text-align: right;\">\n",
       "      <th></th>\n",
       "      <th>ACCOUNT_ID</th>\n",
       "      <th>AVAIL_BALANCE</th>\n",
       "      <th>CLOSE_DATE</th>\n",
       "      <th>LAST_ACTIVITY_DATE</th>\n",
       "      <th>OPEN_DATE</th>\n",
       "      <th>PENDING_BALANCE</th>\n",
       "      <th>STATUS</th>\n",
       "      <th>CUST_ID</th>\n",
       "      <th>OPEN_BRANCH_ID</th>\n",
       "      <th>OPEN_EMP_ID</th>\n",
       "      <th>PRODUCT_CD</th>\n",
       "    </tr>\n",
       "  </thead>\n",
       "  <tbody>\n",
       "    <tr>\n",
       "      <th>0</th>\n",
       "      <td>1</td>\n",
       "      <td>1057.75</td>\n",
       "      <td>None</td>\n",
       "      <td>2005-01-04</td>\n",
       "      <td>2000-01-15</td>\n",
       "      <td>1057.75</td>\n",
       "      <td>ACTIVE</td>\n",
       "      <td>1</td>\n",
       "      <td>2</td>\n",
       "      <td>10</td>\n",
       "      <td>CHK</td>\n",
       "    </tr>\n",
       "  </tbody>\n",
       "</table>\n",
       "</div>"
      ],
      "text/plain": [
       "   ACCOUNT_ID  AVAIL_BALANCE CLOSE_DATE LAST_ACTIVITY_DATE   OPEN_DATE  \\\n",
       "0           1        1057.75       None         2005-01-04  2000-01-15   \n",
       "\n",
       "   PENDING_BALANCE  STATUS  CUST_ID  OPEN_BRANCH_ID  OPEN_EMP_ID PRODUCT_CD  \n",
       "0          1057.75  ACTIVE        1               2           10        CHK  "
      ]
     },
     "execution_count": 19,
     "metadata": {},
     "output_type": "execute_result"
    }
   ],
   "source": [
    "account.head(1)"
   ]
  },
  {
   "cell_type": "code",
   "execution_count": 24,
   "metadata": {},
   "outputs": [],
   "source": [
    "all_df = employee.merge(account, left_on='EMP_ID', how='inner', right_on='OPEN_EMP_ID') \\\n",
    ".merge(branch, how='inner', left_on='ASSIGNED_BRANCH_ID', right_on='BRANCH_ID') \\\n",
    ".merge(department, how='inner', left_on='DEPT_ID', right_on='DEPT_ID', suffixes=('_branch', '_deparment'))"
   ]
  },
  {
   "cell_type": "code",
   "execution_count": 25,
   "metadata": {},
   "outputs": [
    {
     "data": {
      "text/plain": [
       "Index(['EMP_ID', 'END_DATE', 'FIRST_NAME', 'LAST_NAME', 'START_DATE', 'TITLE',\n",
       "       'ASSIGNED_BRANCH_ID', 'DEPT_ID', 'SUPERIOR_EMP_ID', 'ACCOUNT_ID',\n",
       "       'AVAIL_BALANCE', 'CLOSE_DATE', 'LAST_ACTIVITY_DATE', 'OPEN_DATE',\n",
       "       'PENDING_BALANCE', 'STATUS', 'CUST_ID', 'OPEN_BRANCH_ID', 'OPEN_EMP_ID',\n",
       "       'PRODUCT_CD', 'BRANCH_ID', 'ADDRESS', 'CITY', 'NAME_branch', 'STATE',\n",
       "       'ZIP_CODE', 'NAME_deparment'],\n",
       "      dtype='object')"
      ]
     },
     "execution_count": 25,
     "metadata": {},
     "output_type": "execute_result"
    }
   ],
   "source": [
    "all_df.columns"
   ]
  },
  {
   "cell_type": "code",
   "execution_count": 34,
   "metadata": {},
   "outputs": [
    {
     "data": {
      "text/html": [
       "<div>\n",
       "<style scoped>\n",
       "    .dataframe tbody tr th:only-of-type {\n",
       "        vertical-align: middle;\n",
       "    }\n",
       "\n",
       "    .dataframe tbody tr th {\n",
       "        vertical-align: top;\n",
       "    }\n",
       "\n",
       "    .dataframe thead th {\n",
       "        text-align: right;\n",
       "    }\n",
       "</style>\n",
       "<table border=\"1\" class=\"dataframe\">\n",
       "  <thead>\n",
       "    <tr style=\"text-align: right;\">\n",
       "      <th></th>\n",
       "      <th>EMP_ID</th>\n",
       "      <th>FIRST_NAME</th>\n",
       "      <th>LAST_NAME</th>\n",
       "      <th>ADDRESS</th>\n",
       "      <th>CITY</th>\n",
       "      <th>NAME_branch</th>\n",
       "      <th>NAME_deparment</th>\n",
       "    </tr>\n",
       "  </thead>\n",
       "  <tbody>\n",
       "    <tr>\n",
       "      <th>17</th>\n",
       "      <td>13</td>\n",
       "      <td>John</td>\n",
       "      <td>Blake</td>\n",
       "      <td>125 Presidential Way</td>\n",
       "      <td>Quincy</td>\n",
       "      <td>Quincy Branch</td>\n",
       "      <td>Operations</td>\n",
       "    </tr>\n",
       "    <tr>\n",
       "      <th>23</th>\n",
       "      <td>16</td>\n",
       "      <td>Theresa</td>\n",
       "      <td>Markham</td>\n",
       "      <td>378 Maynard Ln.</td>\n",
       "      <td>Salem</td>\n",
       "      <td>So. NH Branch</td>\n",
       "      <td>Operations</td>\n",
       "    </tr>\n",
       "    <tr>\n",
       "      <th>21</th>\n",
       "      <td>16</td>\n",
       "      <td>Theresa</td>\n",
       "      <td>Markham</td>\n",
       "      <td>378 Maynard Ln.</td>\n",
       "      <td>Salem</td>\n",
       "      <td>So. NH Branch</td>\n",
       "      <td>Operations</td>\n",
       "    </tr>\n",
       "  </tbody>\n",
       "</table>\n",
       "</div>"
      ],
      "text/plain": [
       "    EMP_ID FIRST_NAME LAST_NAME               ADDRESS    CITY    NAME_branch  \\\n",
       "17      13       John     Blake  125 Presidential Way  Quincy  Quincy Branch   \n",
       "23      16    Theresa   Markham       378 Maynard Ln.   Salem  So. NH Branch   \n",
       "21      16    Theresa   Markham       378 Maynard Ln.   Salem  So. NH Branch   \n",
       "\n",
       "   NAME_deparment  \n",
       "17     Operations  \n",
       "23     Operations  \n",
       "21     Operations  "
      ]
     },
     "execution_count": 34,
     "metadata": {},
     "output_type": "execute_result"
    }
   ],
   "source": [
    "all_df[['EMP_ID', 'FIRST_NAME', 'LAST_NAME', 'AVAIL_BALANCE', \n",
    "        'ADDRESS', 'CITY', 'NAME_branch', 'NAME_deparment']].nlargest(3, 'AVAIL_BALANCE', keep='all')\\\n",
    ".drop(columns=['AVAIL_BALANCE'])"
   ]
  },
  {
   "cell_type": "code",
   "execution_count": null,
   "metadata": {},
   "outputs": [],
   "source": []
  }
 ],
 "metadata": {
  "kernelspec": {
   "display_name": "Python 3",
   "language": "python",
   "name": "python3"
  },
  "language_info": {
   "codemirror_mode": {
    "name": "ipython",
    "version": 3
   },
   "file_extension": ".py",
   "mimetype": "text/x-python",
   "name": "python",
   "nbconvert_exporter": "python",
   "pygments_lexer": "ipython3",
   "version": "3.9.1"
  }
 },
 "nbformat": 4,
 "nbformat_minor": 4
}
