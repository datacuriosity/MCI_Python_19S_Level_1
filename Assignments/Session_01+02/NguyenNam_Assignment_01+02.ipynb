{
 "cells": [
  {
   "cell_type": "markdown",
   "metadata": {},
   "source": [
    "## Bài 1.\n",
    "\n",
    "Viết một chương trình tính giai thừa của một số nguyên dương n. Với n được nhập từ bàn phím. Ví dụ, n = 8 thì kết quả đầu ra phải là `1*2*3*4*5*6*7*8` = 40320."
   ]
  },
  {
   "cell_type": "code",
   "execution_count": 8,
   "metadata": {},
   "outputs": [],
   "source": [
    "def factorial(n):\n",
    "    fact = 1\n",
    "    for i in range(1,n+1):\n",
    "        fact *= i\n",
    "    return fact"
   ]
  },
  {
   "cell_type": "code",
   "execution_count": 9,
   "metadata": {},
   "outputs": [],
   "source": [
    "# Testing\n",
    "n = 5\n",
    "assert factorial(n) == 120, \"Wrong answer, please calculate again\""
   ]
  },
  {
   "cell_type": "markdown",
   "metadata": {},
   "source": [
    "## Bài 2.\n",
    "\n",
    "Viết chương trình tính tổng của các chữ số của môt số nguyên n trong Python. Số nguyên dương n được nhập từ bàn phím. Với n = 1234, tổng các chữ số: 1 + 2 + 3 + 4 = 10"
   ]
  },
  {
   "cell_type": "code",
   "execution_count": 22,
   "metadata": {},
   "outputs": [],
   "source": [
    "def sum_all(number):\n",
    "    num_string = str(number)\n",
    "    total = 0\n",
    "    for i in num_string:\n",
    "        total += int(i)\n",
    "    return total"
   ]
  },
  {
   "cell_type": "code",
   "execution_count": 23,
   "metadata": {},
   "outputs": [],
   "source": [
    "# Testing\n",
    "number = 34103\n",
    "assert sum_all(number) == 11, \"Wrong answer, please calculate again\""
   ]
  },
  {
   "cell_type": "markdown",
   "metadata": {},
   "source": [
    "## Bài 3.\n",
    "\n",
    "Tìm giá trị lớn nhất của một list hoặc tuple nhập vào"
   ]
  },
  {
   "cell_type": "code",
   "execution_count": 3,
   "metadata": {},
   "outputs": [],
   "source": [
    "def maximum(li):\n",
    "    max_num = li[0]\n",
    "    for i in li:\n",
    "        if i > max_num:\n",
    "            max_num = i\n",
    "    return max_num"
   ]
  },
  {
   "cell_type": "code",
   "execution_count": 4,
   "metadata": {},
   "outputs": [],
   "source": [
    "# Testing\n",
    "number = [1, 2, 6, 8, 10]\n",
    "assert maximum(number) == 10, \"Wrong answer, please calculate again\""
   ]
  },
  {
   "cell_type": "markdown",
   "metadata": {},
   "source": [
    "## Bài 4.\n",
    "\n",
    "Tìm giá trị lớn thứ nhì từ một list hoặc tuple nhập vào"
   ]
  },
  {
   "cell_type": "code",
   "execution_count": 1,
   "metadata": {},
   "outputs": [],
   "source": [
    "def second_maximum(li):\n",
    "    new_list = []\n",
    "    new_list_len = 0\n",
    "    for i in li:\n",
    "        if i not in new_list:\n",
    "            new_list.append(i)\n",
    "            new_list_len += 1\n",
    "    \n",
    "    if new_list_len >= 2:\n",
    "        if new_list[0] > new_list[1]:\n",
    "            max_num = new_list[0]\n",
    "            max2_num = new_list[1]\n",
    "        else:\n",
    "            max_num = new_list[1]\n",
    "            max2_num = new_list[0]\n",
    "            \n",
    "        for i in new_list[2:]:\n",
    "            if i > max_num:\n",
    "                max2_num = max_num\n",
    "                max_num = i\n",
    "            elif i > max2_num:\n",
    "                max2_num = i\n",
    "        return max2_num\n",
    "        \n",
    "    else:\n",
    "        return \"There is no second_max number!\""
   ]
  },
  {
   "cell_type": "code",
   "execution_count": 2,
   "metadata": {},
   "outputs": [],
   "source": [
    "# Testing\n",
    "number = [1, 2, 6, 8, 10]\n",
    "assert second_maximum(number) == 8, \"Wrong answer, please calculate again\""
   ]
  },
  {
   "cell_type": "markdown",
   "metadata": {},
   "source": [
    "## Bài 5.\n",
    "\n",
    "Định nghĩa một hàm có input là 2 chuỗi và trả về chuỗi có độ dài lớn hơn. Nếu 2 chuỗi có chiều dài như nhau thì trả tất cả các chuỗi dưới dạng tuple"
   ]
  },
  {
   "cell_type": "code",
   "execution_count": 5,
   "metadata": {},
   "outputs": [],
   "source": [
    "def greater_string(str_1, str_2):\n",
    "    if len(str_1) > len(str_2):\n",
    "        return str_1\n",
    "    elif len(str_1) < len(str_2):\n",
    "        return str_2\n",
    "    else:\n",
    "        return (str_1, str_2)"
   ]
  },
  {
   "cell_type": "code",
   "execution_count": 6,
   "metadata": {},
   "outputs": [],
   "source": [
    "# Test 1\n",
    "str_1 = \"My name is\"\n",
    "str_2 = \"My university\"\n",
    "\n",
    "assert len(greater_string(str_1, str_2)) == len(str_2), \"Wrong answer, please code again\"\n",
    "\n",
    "\n",
    "#Test 2\n",
    "\n",
    "str_1 = \"My name is\"\n",
    "str_2 = \"My name ar\"\n",
    "\n",
    "assert greater_string(str_1, str_2) == (str_1, str_2), \"Wrong answer, please code again\""
   ]
  },
  {
   "cell_type": "markdown",
   "metadata": {},
   "source": [
    "## Bài 6.\n",
    "\n",
    "Loại bỏ các giá trị trùng từ chuỗi nhập vào, nhưng vẫn giữ thứ tự.\n",
    "\n",
    "Ví dụ: aaabbbbcccddd1111 --> abcd1"
   ]
  },
  {
   "cell_type": "code",
   "execution_count": 7,
   "metadata": {},
   "outputs": [],
   "source": [
    "def remove_duplicated(str_1):\n",
    "    new_str = \"\"\n",
    "    for i in str_1:\n",
    "        if i not in new_str:\n",
    "            new_str += i\n",
    "    return new_str"
   ]
  },
  {
   "cell_type": "code",
   "execution_count": 8,
   "metadata": {},
   "outputs": [],
   "source": [
    "# Testing\n",
    "str_1 = \"cccccddddeeeeffff22222\"\n",
    "\n",
    "assert remove_duplicated(str_1) == \"cdef2\""
   ]
  },
  {
   "cell_type": "markdown",
   "metadata": {},
   "source": [
    "## Bài 7. \n",
    "Viết một chương trình có 2 chữ số X, Y nhận giá trị đầu vào và tạo ra một mảng 2 chiều. Giá trị phần tử trong hàng thứ i và cột thứ j của mảng phải là `i*j`\n",
    "\n",
    "Lưu ý: \n",
    "- i = 0, 1, 2, ..., X-1\n",
    "- j = 0, 1, 2, ..., Y-1      "
   ]
  },
  {
   "cell_type": "code",
   "execution_count": null,
   "metadata": {
    "collapsed": false,
    "jupyter": {
     "outputs_hidden": false
    },
    "pycharm": {
     "name": "#%%\n"
    }
   },
   "outputs": [],
   "source": [
    "def create_2D_array(X, Y):\n",
    "    super_list = []\n",
    "    for i in range(X):\n",
    "        sub_list = []\n",
    "        for j in range(Y):\n",
    "            value = i*j\n",
    "            sub_list.append(value)\n",
    "        super_list.append(sub_list)\n",
    "    return super_list"
   ]
  },
  {
   "cell_type": "code",
   "execution_count": null,
   "metadata": {
    "collapsed": false,
    "jupyter": {
     "outputs_hidden": false
    },
    "pycharm": {
     "name": "#%%\n"
    }
   },
   "outputs": [],
   "source": [
    "assert create_2D_array(5, 5) == [[0, 0, 0, 0, 0], [0, 1, 2, 3, 4], [0, 2, 4, 6, 8], [0, 3, 6, 9, 12], [0, 4, 8, 12, 16]], \"Wrong answer, please code again\""
   ]
  },
  {
   "cell_type": "markdown",
   "metadata": {},
   "source": [
    "## Bài 8.\n",
    "Viết chương trình để xuất một số ngẫu nhiên, chia hết cho 5 và 7, từ 0 đến 200 (gồm cả 0 và 200), sử dụng module random và list comprehension"
   ]
  },
  {
   "cell_type": "code",
   "execution_count": null,
   "metadata": {
    "collapsed": false,
    "jupyter": {
     "outputs_hidden": false
    },
    "pycharm": {
     "name": "#%%\n"
    }
   },
   "outputs": [],
   "source": [
    "import random\n",
    "def division_5_7(random_seed = 4):\n",
    "    random.seed(random_seed)\n",
    "    list_5_7 = [i for i in range(201) if i % 35 == 0]\n",
    "    value = random.choice(list_5_7)\n",
    "    return value"
   ]
  },
  {
   "cell_type": "code",
   "execution_count": null,
   "metadata": {
    "collapsed": false,
    "jupyter": {
     "outputs_hidden": false
    },
    "pycharm": {
     "name": "#%%\n"
    }
   },
   "outputs": [],
   "source": [
    "random_seed = 4\n",
    "assert division_5_7(random_seed) == 35, \"Wrong answer, please code again\""
   ]
  },
  {
   "cell_type": "code",
   "execution_count": null,
   "metadata": {},
   "outputs": [],
   "source": []
  }
 ],
 "metadata": {
  "kernelspec": {
   "display_name": "Python 3",
   "language": "python",
   "name": "python3"
  },
  "language_info": {
   "codemirror_mode": {
    "name": "ipython",
    "version": 3
   },
   "file_extension": ".py",
   "mimetype": "text/x-python",
   "name": "python",
   "nbconvert_exporter": "python",
   "pygments_lexer": "ipython3",
   "version": "3.7.9"
  }
 },
 "nbformat": 4,
 "nbformat_minor": 4
}
